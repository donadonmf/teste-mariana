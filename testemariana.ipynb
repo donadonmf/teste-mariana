{
  "nbformat": 4,
  "nbformat_minor": 0,
  "metadata": {
    "colab": {
      "provenance": []
    },
    "kernelspec": {
      "name": "python3",
      "display_name": "Python 3"
    },
    "language_info": {
      "name": "python"
    }
  },
  "cells": [
    {
      "cell_type": "markdown",
      "source": [
        "Test Mariana - Data Science"
      ],
      "metadata": {
        "id": "TCo-UAV_-JEC"
      }
    },
    {
      "cell_type": "markdown",
      "source": [
        "introdução: In this notebook, test mariana are summarized\n"
      ],
      "metadata": {
        "id": "h7LfYqhJ-XKd"
      }
    },
    {
      "cell_type": "markdown",
      "source": [
        "\n",
        "\n",
        "*   python\n",
        "*   C\n",
        "* C++\n",
        "* R\n",
        "* SCALA\n",
        "* JAVA\n"
      ],
      "metadata": {
        "id": "afgl9H9d-hND"
      }
    },
    {
      "cell_type": "markdown",
      "source": [
        "\n",
        "\n",
        "*   Pandas\n",
        "*   Keras\n",
        "*  SciPy\n",
        "\n"
      ],
      "metadata": {
        "id": "qEX4e-xu_Lmj"
      }
    },
    {
      "cell_type": "markdown",
      "source": [
        "\n",
        "\n",
        "*   Zoho\n",
        "*   Python\n",
        "*  R\n",
        "* sql\n",
        "\n",
        "\n"
      ],
      "metadata": {
        "id": "DVrWv2dg_kvJ"
      }
    },
    {
      "cell_type": "markdown",
      "source": [
        " {2 + [5 - (3 + 7) + 4] - 8}"
      ],
      "metadata": {
        "id": "2F4VA4OiAZ7W"
      }
    },
    {
      "cell_type": "code",
      "source": [],
      "metadata": {
        "id": "oexXN4wPBNIE"
      },
      "execution_count": null,
      "outputs": []
    },
    {
      "cell_type": "markdown",
      "source": [],
      "metadata": {
        "id": "hBj-FI7tCsWa"
      }
    },
    {
      "cell_type": "code",
      "source": [
        "\n",
        "2*6\n",
        "2+2\n"
      ],
      "metadata": {
        "colab": {
          "base_uri": "https://localhost:8080/"
        },
        "id": "5vY_VYDpCyJY",
        "outputId": "51f38779-882b-4ef7-8a30-c7c98333f2ba"
      },
      "execution_count": 1,
      "outputs": [
        {
          "output_type": "execute_result",
          "data": {
            "text/plain": [
              "4"
            ]
          },
          "metadata": {},
          "execution_count": 1
        }
      ]
    },
    {
      "cell_type": "code",
      "source": [
        "1/60\n"
      ],
      "metadata": {
        "colab": {
          "base_uri": "https://localhost:8080/"
        },
        "id": "ItRLnIAgDVs0",
        "outputId": "77198b65-483d-44dd-a13c-ceb1d481712a"
      },
      "execution_count": 2,
      "outputs": [
        {
          "output_type": "execute_result",
          "data": {
            "text/plain": [
              "0.016666666666666666"
            ]
          },
          "metadata": {},
          "execution_count": 2
        }
      ]
    },
    {
      "cell_type": "markdown",
      "source": [
        "\n",
        "\n",
        "*   Objetivo de aprender mais\n",
        "*   Objetivo de avaliar amigos\n",
        "\n"
      ],
      "metadata": {
        "id": "-XRDsoj3Dky3"
      }
    },
    {
      "cell_type": "markdown",
      "source": [
        "mariana"
      ],
      "metadata": {
        "id": "Yx1rtMttErSt"
      }
    },
    {
      "cell_type": "code",
      "source": [],
      "metadata": {
        "id": "yE0PCLcREtt-"
      },
      "execution_count": null,
      "outputs": []
    }
  ]
}
